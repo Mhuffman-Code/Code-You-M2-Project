{
 "cells": [
  {
   "cell_type": "markdown",
   "id": "eaac4c58",
   "metadata": {},
   "source": [
    "Project Overview:\n",
    "\n",
    "EDA of USA Cars at Auction\n",
    "\n",
    "This data comes from https://www.kaggle.com/datasets/doaaalsenani/usa-cers-dataset"
   ]
  },
  {
   "cell_type": "code",
   "execution_count": 25,
   "id": "a2c3fd66",
   "metadata": {},
   "outputs": [],
   "source": [
    "import pandas as pd\n",
    "import numpy as np\n",
    "import seaborn as sns                  \n",
    "import matplotlib.pyplot as plt             \n",
    "%matplotlib inline     \n",
    "sns.set(color_codes=True)"
   ]
  },
  {
   "cell_type": "code",
   "execution_count": 26,
   "id": "a8eaf841",
   "metadata": {},
   "outputs": [
    {
     "data": {
      "text/html": [
       "<div>\n",
       "<style scoped>\n",
       "    .dataframe tbody tr th:only-of-type {\n",
       "        vertical-align: middle;\n",
       "    }\n",
       "\n",
       "    .dataframe tbody tr th {\n",
       "        vertical-align: top;\n",
       "    }\n",
       "\n",
       "    .dataframe thead th {\n",
       "        text-align: right;\n",
       "    }\n",
       "</style>\n",
       "<table border=\"1\" class=\"dataframe\">\n",
       "  <thead>\n",
       "    <tr style=\"text-align: right;\">\n",
       "      <th></th>\n",
       "      <th>Unnamed: 0</th>\n",
       "      <th>price</th>\n",
       "      <th>brand</th>\n",
       "      <th>model</th>\n",
       "      <th>year</th>\n",
       "      <th>title_status</th>\n",
       "      <th>mileage</th>\n",
       "      <th>color</th>\n",
       "      <th>vin</th>\n",
       "      <th>lot</th>\n",
       "      <th>state</th>\n",
       "      <th>country</th>\n",
       "      <th>condition</th>\n",
       "    </tr>\n",
       "  </thead>\n",
       "  <tbody>\n",
       "    <tr>\n",
       "      <th>0</th>\n",
       "      <td>0</td>\n",
       "      <td>6300</td>\n",
       "      <td>toyota</td>\n",
       "      <td>cruiser</td>\n",
       "      <td>2008</td>\n",
       "      <td>clean vehicle</td>\n",
       "      <td>274117.0</td>\n",
       "      <td>black</td>\n",
       "      <td>jtezu11f88k007763</td>\n",
       "      <td>159348797</td>\n",
       "      <td>new jersey</td>\n",
       "      <td>usa</td>\n",
       "      <td>10 days left</td>\n",
       "    </tr>\n",
       "    <tr>\n",
       "      <th>1</th>\n",
       "      <td>1</td>\n",
       "      <td>2899</td>\n",
       "      <td>ford</td>\n",
       "      <td>se</td>\n",
       "      <td>2011</td>\n",
       "      <td>clean vehicle</td>\n",
       "      <td>190552.0</td>\n",
       "      <td>silver</td>\n",
       "      <td>2fmdk3gc4bbb02217</td>\n",
       "      <td>166951262</td>\n",
       "      <td>tennessee</td>\n",
       "      <td>usa</td>\n",
       "      <td>6 days left</td>\n",
       "    </tr>\n",
       "    <tr>\n",
       "      <th>2</th>\n",
       "      <td>2</td>\n",
       "      <td>5350</td>\n",
       "      <td>dodge</td>\n",
       "      <td>mpv</td>\n",
       "      <td>2018</td>\n",
       "      <td>clean vehicle</td>\n",
       "      <td>39590.0</td>\n",
       "      <td>silver</td>\n",
       "      <td>3c4pdcgg5jt346413</td>\n",
       "      <td>167655728</td>\n",
       "      <td>georgia</td>\n",
       "      <td>usa</td>\n",
       "      <td>2 days left</td>\n",
       "    </tr>\n",
       "    <tr>\n",
       "      <th>3</th>\n",
       "      <td>3</td>\n",
       "      <td>25000</td>\n",
       "      <td>ford</td>\n",
       "      <td>door</td>\n",
       "      <td>2014</td>\n",
       "      <td>clean vehicle</td>\n",
       "      <td>64146.0</td>\n",
       "      <td>blue</td>\n",
       "      <td>1ftfw1et4efc23745</td>\n",
       "      <td>167753855</td>\n",
       "      <td>virginia</td>\n",
       "      <td>usa</td>\n",
       "      <td>22 hours left</td>\n",
       "    </tr>\n",
       "    <tr>\n",
       "      <th>4</th>\n",
       "      <td>4</td>\n",
       "      <td>27700</td>\n",
       "      <td>chevrolet</td>\n",
       "      <td>1500</td>\n",
       "      <td>2018</td>\n",
       "      <td>clean vehicle</td>\n",
       "      <td>6654.0</td>\n",
       "      <td>red</td>\n",
       "      <td>3gcpcrec2jg473991</td>\n",
       "      <td>167763266</td>\n",
       "      <td>florida</td>\n",
       "      <td>usa</td>\n",
       "      <td>22 hours left</td>\n",
       "    </tr>\n",
       "  </tbody>\n",
       "</table>\n",
       "</div>"
      ],
      "text/plain": [
       "   Unnamed: 0  price      brand    model  year   title_status   mileage  \\\n",
       "0           0   6300     toyota  cruiser  2008  clean vehicle  274117.0   \n",
       "1           1   2899       ford       se  2011  clean vehicle  190552.0   \n",
       "2           2   5350      dodge      mpv  2018  clean vehicle   39590.0   \n",
       "3           3  25000       ford     door  2014  clean vehicle   64146.0   \n",
       "4           4  27700  chevrolet     1500  2018  clean vehicle    6654.0   \n",
       "\n",
       "    color                  vin        lot       state country      condition  \n",
       "0   black    jtezu11f88k007763  159348797  new jersey     usa   10 days left  \n",
       "1  silver    2fmdk3gc4bbb02217  166951262   tennessee     usa    6 days left  \n",
       "2  silver    3c4pdcgg5jt346413  167655728     georgia     usa    2 days left  \n",
       "3    blue    1ftfw1et4efc23745  167753855    virginia     usa  22 hours left  \n",
       "4     red    3gcpcrec2jg473991  167763266     florida     usa  22 hours left  "
      ]
     },
     "execution_count": 26,
     "metadata": {},
     "output_type": "execute_result"
    }
   ],
   "source": [
    "df = pd.read_csv(\"USA_cars_datasets.csv\")\n",
    "\n",
    "df.head(5)   "
   ]
  },
  {
   "cell_type": "code",
   "execution_count": 27,
   "id": "1bca0c2f",
   "metadata": {},
   "outputs": [
    {
     "data": {
      "text/html": [
       "<div>\n",
       "<style scoped>\n",
       "    .dataframe tbody tr th:only-of-type {\n",
       "        vertical-align: middle;\n",
       "    }\n",
       "\n",
       "    .dataframe tbody tr th {\n",
       "        vertical-align: top;\n",
       "    }\n",
       "\n",
       "    .dataframe thead th {\n",
       "        text-align: right;\n",
       "    }\n",
       "</style>\n",
       "<table border=\"1\" class=\"dataframe\">\n",
       "  <thead>\n",
       "    <tr style=\"text-align: right;\">\n",
       "      <th></th>\n",
       "      <th>Unnamed: 0</th>\n",
       "      <th>price</th>\n",
       "      <th>brand</th>\n",
       "      <th>model</th>\n",
       "      <th>year</th>\n",
       "      <th>title_status</th>\n",
       "      <th>mileage</th>\n",
       "      <th>color</th>\n",
       "      <th>vin</th>\n",
       "      <th>lot</th>\n",
       "      <th>state</th>\n",
       "      <th>country</th>\n",
       "      <th>condition</th>\n",
       "    </tr>\n",
       "  </thead>\n",
       "  <tbody>\n",
       "    <tr>\n",
       "      <th>2494</th>\n",
       "      <td>2494</td>\n",
       "      <td>7800</td>\n",
       "      <td>nissan</td>\n",
       "      <td>versa</td>\n",
       "      <td>2019</td>\n",
       "      <td>clean vehicle</td>\n",
       "      <td>23609.0</td>\n",
       "      <td>red</td>\n",
       "      <td>3n1cn7ap9kl880319</td>\n",
       "      <td>167722715</td>\n",
       "      <td>california</td>\n",
       "      <td>usa</td>\n",
       "      <td>1 days left</td>\n",
       "    </tr>\n",
       "    <tr>\n",
       "      <th>2495</th>\n",
       "      <td>2495</td>\n",
       "      <td>9200</td>\n",
       "      <td>nissan</td>\n",
       "      <td>versa</td>\n",
       "      <td>2018</td>\n",
       "      <td>clean vehicle</td>\n",
       "      <td>34553.0</td>\n",
       "      <td>silver</td>\n",
       "      <td>3n1cn7ap5jl884088</td>\n",
       "      <td>167762225</td>\n",
       "      <td>florida</td>\n",
       "      <td>usa</td>\n",
       "      <td>21 hours left</td>\n",
       "    </tr>\n",
       "    <tr>\n",
       "      <th>2496</th>\n",
       "      <td>2496</td>\n",
       "      <td>9200</td>\n",
       "      <td>nissan</td>\n",
       "      <td>versa</td>\n",
       "      <td>2018</td>\n",
       "      <td>clean vehicle</td>\n",
       "      <td>31594.0</td>\n",
       "      <td>silver</td>\n",
       "      <td>3n1cn7ap9jl884191</td>\n",
       "      <td>167762226</td>\n",
       "      <td>florida</td>\n",
       "      <td>usa</td>\n",
       "      <td>21 hours left</td>\n",
       "    </tr>\n",
       "    <tr>\n",
       "      <th>2497</th>\n",
       "      <td>2497</td>\n",
       "      <td>9200</td>\n",
       "      <td>nissan</td>\n",
       "      <td>versa</td>\n",
       "      <td>2018</td>\n",
       "      <td>clean vehicle</td>\n",
       "      <td>32557.0</td>\n",
       "      <td>black</td>\n",
       "      <td>3n1cn7ap3jl883263</td>\n",
       "      <td>167762227</td>\n",
       "      <td>florida</td>\n",
       "      <td>usa</td>\n",
       "      <td>2 days left</td>\n",
       "    </tr>\n",
       "    <tr>\n",
       "      <th>2498</th>\n",
       "      <td>2498</td>\n",
       "      <td>9200</td>\n",
       "      <td>nissan</td>\n",
       "      <td>versa</td>\n",
       "      <td>2018</td>\n",
       "      <td>clean vehicle</td>\n",
       "      <td>31371.0</td>\n",
       "      <td>silver</td>\n",
       "      <td>3n1cn7ap4jl884311</td>\n",
       "      <td>167762228</td>\n",
       "      <td>florida</td>\n",
       "      <td>usa</td>\n",
       "      <td>21 hours left</td>\n",
       "    </tr>\n",
       "  </tbody>\n",
       "</table>\n",
       "</div>"
      ],
      "text/plain": [
       "      Unnamed: 0  price   brand  model  year   title_status  mileage   color  \\\n",
       "2494        2494   7800  nissan  versa  2019  clean vehicle  23609.0     red   \n",
       "2495        2495   9200  nissan  versa  2018  clean vehicle  34553.0  silver   \n",
       "2496        2496   9200  nissan  versa  2018  clean vehicle  31594.0  silver   \n",
       "2497        2497   9200  nissan  versa  2018  clean vehicle  32557.0   black   \n",
       "2498        2498   9200  nissan  versa  2018  clean vehicle  31371.0  silver   \n",
       "\n",
       "                      vin        lot       state country      condition  \n",
       "2494    3n1cn7ap9kl880319  167722715  california     usa    1 days left  \n",
       "2495    3n1cn7ap5jl884088  167762225     florida     usa  21 hours left  \n",
       "2496    3n1cn7ap9jl884191  167762226     florida     usa  21 hours left  \n",
       "2497    3n1cn7ap3jl883263  167762227     florida     usa    2 days left  \n",
       "2498    3n1cn7ap4jl884311  167762228     florida     usa  21 hours left  "
      ]
     },
     "execution_count": 27,
     "metadata": {},
     "output_type": "execute_result"
    }
   ],
   "source": [
    "df.tail(5)"
   ]
  },
  {
   "cell_type": "code",
   "execution_count": 28,
   "id": "fcc4113c",
   "metadata": {},
   "outputs": [
    {
     "data": {
      "text/plain": [
       "Unnamed: 0        int64\n",
       "price             int64\n",
       "brand            object\n",
       "model            object\n",
       "year              int64\n",
       "title_status     object\n",
       "mileage         float64\n",
       "color            object\n",
       "vin              object\n",
       "lot               int64\n",
       "state            object\n",
       "country          object\n",
       "condition        object\n",
       "dtype: object"
      ]
     },
     "execution_count": 28,
     "metadata": {},
     "output_type": "execute_result"
    }
   ],
   "source": [
    "df.dtypes"
   ]
  },
  {
   "cell_type": "code",
   "execution_count": 29,
   "id": "cd7935e5",
   "metadata": {},
   "outputs": [
    {
     "data": {
      "text/html": [
       "<div>\n",
       "<style scoped>\n",
       "    .dataframe tbody tr th:only-of-type {\n",
       "        vertical-align: middle;\n",
       "    }\n",
       "\n",
       "    .dataframe tbody tr th {\n",
       "        vertical-align: top;\n",
       "    }\n",
       "\n",
       "    .dataframe thead th {\n",
       "        text-align: right;\n",
       "    }\n",
       "</style>\n",
       "<table border=\"1\" class=\"dataframe\">\n",
       "  <thead>\n",
       "    <tr style=\"text-align: right;\">\n",
       "      <th></th>\n",
       "      <th>price</th>\n",
       "      <th>brand</th>\n",
       "      <th>model</th>\n",
       "      <th>year</th>\n",
       "      <th>title_status</th>\n",
       "      <th>mileage</th>\n",
       "      <th>color</th>\n",
       "      <th>state</th>\n",
       "      <th>country</th>\n",
       "      <th>condition</th>\n",
       "    </tr>\n",
       "  </thead>\n",
       "  <tbody>\n",
       "    <tr>\n",
       "      <th>0</th>\n",
       "      <td>6300</td>\n",
       "      <td>toyota</td>\n",
       "      <td>cruiser</td>\n",
       "      <td>2008</td>\n",
       "      <td>clean vehicle</td>\n",
       "      <td>274117.0</td>\n",
       "      <td>black</td>\n",
       "      <td>new jersey</td>\n",
       "      <td>usa</td>\n",
       "      <td>10 days left</td>\n",
       "    </tr>\n",
       "    <tr>\n",
       "      <th>1</th>\n",
       "      <td>2899</td>\n",
       "      <td>ford</td>\n",
       "      <td>se</td>\n",
       "      <td>2011</td>\n",
       "      <td>clean vehicle</td>\n",
       "      <td>190552.0</td>\n",
       "      <td>silver</td>\n",
       "      <td>tennessee</td>\n",
       "      <td>usa</td>\n",
       "      <td>6 days left</td>\n",
       "    </tr>\n",
       "    <tr>\n",
       "      <th>2</th>\n",
       "      <td>5350</td>\n",
       "      <td>dodge</td>\n",
       "      <td>mpv</td>\n",
       "      <td>2018</td>\n",
       "      <td>clean vehicle</td>\n",
       "      <td>39590.0</td>\n",
       "      <td>silver</td>\n",
       "      <td>georgia</td>\n",
       "      <td>usa</td>\n",
       "      <td>2 days left</td>\n",
       "    </tr>\n",
       "    <tr>\n",
       "      <th>3</th>\n",
       "      <td>25000</td>\n",
       "      <td>ford</td>\n",
       "      <td>door</td>\n",
       "      <td>2014</td>\n",
       "      <td>clean vehicle</td>\n",
       "      <td>64146.0</td>\n",
       "      <td>blue</td>\n",
       "      <td>virginia</td>\n",
       "      <td>usa</td>\n",
       "      <td>22 hours left</td>\n",
       "    </tr>\n",
       "    <tr>\n",
       "      <th>4</th>\n",
       "      <td>27700</td>\n",
       "      <td>chevrolet</td>\n",
       "      <td>1500</td>\n",
       "      <td>2018</td>\n",
       "      <td>clean vehicle</td>\n",
       "      <td>6654.0</td>\n",
       "      <td>red</td>\n",
       "      <td>florida</td>\n",
       "      <td>usa</td>\n",
       "      <td>22 hours left</td>\n",
       "    </tr>\n",
       "  </tbody>\n",
       "</table>\n",
       "</div>"
      ],
      "text/plain": [
       "   price      brand    model  year   title_status   mileage   color  \\\n",
       "0   6300     toyota  cruiser  2008  clean vehicle  274117.0   black   \n",
       "1   2899       ford       se  2011  clean vehicle  190552.0  silver   \n",
       "2   5350      dodge      mpv  2018  clean vehicle   39590.0  silver   \n",
       "3  25000       ford     door  2014  clean vehicle   64146.0    blue   \n",
       "4  27700  chevrolet     1500  2018  clean vehicle    6654.0     red   \n",
       "\n",
       "        state country      condition  \n",
       "0  new jersey     usa   10 days left  \n",
       "1   tennessee     usa    6 days left  \n",
       "2     georgia     usa    2 days left  \n",
       "3    virginia     usa  22 hours left  \n",
       "4     florida     usa  22 hours left  "
      ]
     },
     "execution_count": 29,
     "metadata": {},
     "output_type": "execute_result"
    }
   ],
   "source": [
    "df = df.drop(['vin', 'lot'], axis=1)\n",
    "df = df.drop('Unnamed: 0', axis=1)\n",
    "\n",
    "df.head(5)"
   ]
  },
  {
   "cell_type": "code",
   "execution_count": 30,
   "id": "238d1d2f",
   "metadata": {},
   "outputs": [
    {
     "data": {
      "text/html": [
       "<div>\n",
       "<style scoped>\n",
       "    .dataframe tbody tr th:only-of-type {\n",
       "        vertical-align: middle;\n",
       "    }\n",
       "\n",
       "    .dataframe tbody tr th {\n",
       "        vertical-align: top;\n",
       "    }\n",
       "\n",
       "    .dataframe thead th {\n",
       "        text-align: right;\n",
       "    }\n",
       "</style>\n",
       "<table border=\"1\" class=\"dataframe\">\n",
       "  <thead>\n",
       "    <tr style=\"text-align: right;\">\n",
       "      <th></th>\n",
       "      <th>Price</th>\n",
       "      <th>Brand</th>\n",
       "      <th>Model</th>\n",
       "      <th>Year</th>\n",
       "      <th>Title_status</th>\n",
       "      <th>Mileage</th>\n",
       "      <th>Color</th>\n",
       "      <th>State</th>\n",
       "      <th>Country</th>\n",
       "      <th>Condition</th>\n",
       "    </tr>\n",
       "  </thead>\n",
       "  <tbody>\n",
       "    <tr>\n",
       "      <th>0</th>\n",
       "      <td>6300</td>\n",
       "      <td>toyota</td>\n",
       "      <td>cruiser</td>\n",
       "      <td>2008</td>\n",
       "      <td>clean vehicle</td>\n",
       "      <td>274117.0</td>\n",
       "      <td>black</td>\n",
       "      <td>new jersey</td>\n",
       "      <td>usa</td>\n",
       "      <td>10 days left</td>\n",
       "    </tr>\n",
       "    <tr>\n",
       "      <th>1</th>\n",
       "      <td>2899</td>\n",
       "      <td>ford</td>\n",
       "      <td>se</td>\n",
       "      <td>2011</td>\n",
       "      <td>clean vehicle</td>\n",
       "      <td>190552.0</td>\n",
       "      <td>silver</td>\n",
       "      <td>tennessee</td>\n",
       "      <td>usa</td>\n",
       "      <td>6 days left</td>\n",
       "    </tr>\n",
       "    <tr>\n",
       "      <th>2</th>\n",
       "      <td>5350</td>\n",
       "      <td>dodge</td>\n",
       "      <td>mpv</td>\n",
       "      <td>2018</td>\n",
       "      <td>clean vehicle</td>\n",
       "      <td>39590.0</td>\n",
       "      <td>silver</td>\n",
       "      <td>georgia</td>\n",
       "      <td>usa</td>\n",
       "      <td>2 days left</td>\n",
       "    </tr>\n",
       "    <tr>\n",
       "      <th>3</th>\n",
       "      <td>25000</td>\n",
       "      <td>ford</td>\n",
       "      <td>door</td>\n",
       "      <td>2014</td>\n",
       "      <td>clean vehicle</td>\n",
       "      <td>64146.0</td>\n",
       "      <td>blue</td>\n",
       "      <td>virginia</td>\n",
       "      <td>usa</td>\n",
       "      <td>22 hours left</td>\n",
       "    </tr>\n",
       "    <tr>\n",
       "      <th>4</th>\n",
       "      <td>27700</td>\n",
       "      <td>chevrolet</td>\n",
       "      <td>1500</td>\n",
       "      <td>2018</td>\n",
       "      <td>clean vehicle</td>\n",
       "      <td>6654.0</td>\n",
       "      <td>red</td>\n",
       "      <td>florida</td>\n",
       "      <td>usa</td>\n",
       "      <td>22 hours left</td>\n",
       "    </tr>\n",
       "  </tbody>\n",
       "</table>\n",
       "</div>"
      ],
      "text/plain": [
       "   Price      Brand    Model  Year   Title_status   Mileage   Color  \\\n",
       "0   6300     toyota  cruiser  2008  clean vehicle  274117.0   black   \n",
       "1   2899       ford       se  2011  clean vehicle  190552.0  silver   \n",
       "2   5350      dodge      mpv  2018  clean vehicle   39590.0  silver   \n",
       "3  25000       ford     door  2014  clean vehicle   64146.0    blue   \n",
       "4  27700  chevrolet     1500  2018  clean vehicle    6654.0     red   \n",
       "\n",
       "        State Country      Condition  \n",
       "0  new jersey     usa   10 days left  \n",
       "1   tennessee     usa    6 days left  \n",
       "2     georgia     usa    2 days left  \n",
       "3    virginia     usa  22 hours left  \n",
       "4     florida     usa  22 hours left  "
      ]
     },
     "execution_count": 30,
     "metadata": {},
     "output_type": "execute_result"
    }
   ],
   "source": [
    "df.columns = df.columns.str.capitalize()\n",
    "df.head(5)"
   ]
  },
  {
   "cell_type": "code",
   "execution_count": 31,
   "id": "2a13e98e",
   "metadata": {},
   "outputs": [
    {
     "data": {
      "text/html": [
       "<div>\n",
       "<style scoped>\n",
       "    .dataframe tbody tr th:only-of-type {\n",
       "        vertical-align: middle;\n",
       "    }\n",
       "\n",
       "    .dataframe tbody tr th {\n",
       "        vertical-align: top;\n",
       "    }\n",
       "\n",
       "    .dataframe thead th {\n",
       "        text-align: right;\n",
       "    }\n",
       "</style>\n",
       "<table border=\"1\" class=\"dataframe\">\n",
       "  <thead>\n",
       "    <tr style=\"text-align: right;\">\n",
       "      <th></th>\n",
       "      <th>Price</th>\n",
       "      <th>Brand</th>\n",
       "      <th>Model</th>\n",
       "      <th>Year</th>\n",
       "      <th>Title</th>\n",
       "      <th>Mileage</th>\n",
       "      <th>Color</th>\n",
       "      <th>State</th>\n",
       "      <th>Country</th>\n",
       "      <th>Auction Window</th>\n",
       "    </tr>\n",
       "  </thead>\n",
       "  <tbody>\n",
       "    <tr>\n",
       "      <th>0</th>\n",
       "      <td>6300</td>\n",
       "      <td>toyota</td>\n",
       "      <td>cruiser</td>\n",
       "      <td>2008</td>\n",
       "      <td>clean vehicle</td>\n",
       "      <td>274117.0</td>\n",
       "      <td>black</td>\n",
       "      <td>new jersey</td>\n",
       "      <td>usa</td>\n",
       "      <td>10 days left</td>\n",
       "    </tr>\n",
       "    <tr>\n",
       "      <th>1</th>\n",
       "      <td>2899</td>\n",
       "      <td>ford</td>\n",
       "      <td>se</td>\n",
       "      <td>2011</td>\n",
       "      <td>clean vehicle</td>\n",
       "      <td>190552.0</td>\n",
       "      <td>silver</td>\n",
       "      <td>tennessee</td>\n",
       "      <td>usa</td>\n",
       "      <td>6 days left</td>\n",
       "    </tr>\n",
       "    <tr>\n",
       "      <th>2</th>\n",
       "      <td>5350</td>\n",
       "      <td>dodge</td>\n",
       "      <td>mpv</td>\n",
       "      <td>2018</td>\n",
       "      <td>clean vehicle</td>\n",
       "      <td>39590.0</td>\n",
       "      <td>silver</td>\n",
       "      <td>georgia</td>\n",
       "      <td>usa</td>\n",
       "      <td>2 days left</td>\n",
       "    </tr>\n",
       "    <tr>\n",
       "      <th>3</th>\n",
       "      <td>25000</td>\n",
       "      <td>ford</td>\n",
       "      <td>door</td>\n",
       "      <td>2014</td>\n",
       "      <td>clean vehicle</td>\n",
       "      <td>64146.0</td>\n",
       "      <td>blue</td>\n",
       "      <td>virginia</td>\n",
       "      <td>usa</td>\n",
       "      <td>22 hours left</td>\n",
       "    </tr>\n",
       "    <tr>\n",
       "      <th>4</th>\n",
       "      <td>27700</td>\n",
       "      <td>chevrolet</td>\n",
       "      <td>1500</td>\n",
       "      <td>2018</td>\n",
       "      <td>clean vehicle</td>\n",
       "      <td>6654.0</td>\n",
       "      <td>red</td>\n",
       "      <td>florida</td>\n",
       "      <td>usa</td>\n",
       "      <td>22 hours left</td>\n",
       "    </tr>\n",
       "  </tbody>\n",
       "</table>\n",
       "</div>"
      ],
      "text/plain": [
       "   Price      Brand    Model  Year          Title   Mileage   Color  \\\n",
       "0   6300     toyota  cruiser  2008  clean vehicle  274117.0   black   \n",
       "1   2899       ford       se  2011  clean vehicle  190552.0  silver   \n",
       "2   5350      dodge      mpv  2018  clean vehicle   39590.0  silver   \n",
       "3  25000       ford     door  2014  clean vehicle   64146.0    blue   \n",
       "4  27700  chevrolet     1500  2018  clean vehicle    6654.0     red   \n",
       "\n",
       "        State Country Auction Window  \n",
       "0  new jersey     usa   10 days left  \n",
       "1   tennessee     usa    6 days left  \n",
       "2     georgia     usa    2 days left  \n",
       "3    virginia     usa  22 hours left  \n",
       "4     florida     usa  22 hours left  "
      ]
     },
     "execution_count": 31,
     "metadata": {},
     "output_type": "execute_result"
    }
   ],
   "source": [
    "df = df.rename(columns={\"Title_status\": \"Title\", \"Condition\": \"Auction Window\" })\n",
    "df.head(5)"
   ]
  },
  {
   "cell_type": "code",
   "execution_count": 32,
   "id": "7c823481",
   "metadata": {},
   "outputs": [
    {
     "data": {
      "text/plain": [
       "(2499, 10)"
      ]
     },
     "execution_count": 32,
     "metadata": {},
     "output_type": "execute_result"
    }
   ],
   "source": [
    "df.shape"
   ]
  },
  {
   "cell_type": "markdown",
   "id": "4f07bba7",
   "metadata": {},
   "source": [
    "Some statistics about the price of these cars. "
   ]
  },
  {
   "cell_type": "code",
   "execution_count": 33,
   "id": "cb93eb64",
   "metadata": {},
   "outputs": [
    {
     "data": {
      "text/plain": [
       "count     2499.000000\n",
       "mean     18767.671469\n",
       "std      12116.094936\n",
       "min          0.000000\n",
       "25%      10200.000000\n",
       "50%      16900.000000\n",
       "75%      25555.500000\n",
       "max      84900.000000\n",
       "Name: Price, dtype: float64"
      ]
     },
     "execution_count": 33,
     "metadata": {},
     "output_type": "execute_result"
    }
   ],
   "source": [
    "df['Price'].describe()"
   ]
  },
  {
   "cell_type": "code",
   "execution_count": 34,
   "id": "2c2450f6",
   "metadata": {},
   "outputs": [
    {
     "name": "stdout",
     "output_type": "stream",
     "text": [
      "number of duplicate rows:  (0, 10)\n"
     ]
    }
   ],
   "source": [
    "duplicate_rows_df = df[df.duplicated()]\n",
    "print(\"number of duplicate rows: \", duplicate_rows_df.shape)"
   ]
  },
  {
   "cell_type": "code",
   "execution_count": 35,
   "id": "fe883c08",
   "metadata": {},
   "outputs": [
    {
     "data": {
      "text/plain": [
       "Price             2499\n",
       "Brand             2499\n",
       "Model             2499\n",
       "Year              2499\n",
       "Title             2499\n",
       "Mileage           2499\n",
       "Color             2499\n",
       "State             2499\n",
       "Country           2499\n",
       "Auction Window    2499\n",
       "dtype: int64"
      ]
     },
     "execution_count": 35,
     "metadata": {},
     "output_type": "execute_result"
    }
   ],
   "source": [
    "df.count()"
   ]
  },
  {
   "cell_type": "code",
   "execution_count": 36,
   "id": "692dc1d2",
   "metadata": {},
   "outputs": [
    {
     "name": "stdout",
     "output_type": "stream",
     "text": [
      "Brand\n",
      "acura               7266.666667\n",
      "audi               13981.250000\n",
      "bmw                26397.058824\n",
      "buick              19715.769231\n",
      "cadillac           24941.000000\n",
      "chevrolet          18669.952862\n",
      "chrysler           13686.111111\n",
      "dodge              17781.988426\n",
      "ford               21666.888259\n",
      "gmc                10657.380952\n",
      "harley-davidson    54680.000000\n",
      "heartland           2966.000000\n",
      "honda               6127.500000\n",
      "hyundai             5203.200000\n",
      "infiniti           13098.333333\n",
      "jaguar              2800.000000\n",
      "jeep               10933.833333\n",
      "kia                11123.846154\n",
      "land               28900.000000\n",
      "lexus              33220.000000\n",
      "lincoln            18150.000000\n",
      "maserati           30300.000000\n",
      "mazda               8000.000000\n",
      "mercedes-benz      28704.000000\n",
      "nissan             12065.820513\n",
      "peterbilt            400.000000\n",
      "ram                11050.000000\n",
      "toyota              6300.000000\n",
      "Name: Price, dtype: float64\n"
     ]
    }
   ],
   "source": [
    "#Look at the average price for each brand\n",
    "df2=df.groupby(by=\"Brand\")[\"Price\"].mean()\n",
    "print(df2)"
   ]
  },
  {
   "cell_type": "code",
   "execution_count": 37,
   "id": "6da187f6",
   "metadata": {},
   "outputs": [
    {
     "name": "stdout",
     "output_type": "stream",
     "text": [
      "      Price      Brand    Model  Year              Title    Mileage   Color  \\\n",
      "0      6300     toyota  cruiser  2008      clean vehicle   274117.0   black   \n",
      "1      2899       ford       se  2011      clean vehicle   190552.0  silver   \n",
      "2     25000       ford     door  2014      clean vehicle    64146.0    blue   \n",
      "3      5250       ford      mpv  2017      clean vehicle    63418.0   black   \n",
      "4     20700       ford     door  2013      clean vehicle   100757.0   black   \n",
      "...     ...        ...      ...   ...                ...        ...     ...   \n",
      "2494    475  peterbilt    truck  2012  salvage insurance   902041.0    gold   \n",
      "2495    100  peterbilt    truck  2012  salvage insurance        0.0    blue   \n",
      "2496      0  peterbilt    truck  2009  salvage insurance   982486.0    blue   \n",
      "2497   1025  peterbilt    truck  2010  salvage insurance  1017936.0  color:   \n",
      "2498  11050        ram     door  2017      clean vehicle    30421.0   white   \n",
      "\n",
      "           State Country Auction Window  Price_by_Brand  \n",
      "0     new jersey     usa   10 days left     6300.000000  \n",
      "1      tennessee     usa    6 days left    21666.888259  \n",
      "2       virginia     usa  22 hours left    21666.888259  \n",
      "3          texas     usa    2 days left    21666.888259  \n",
      "4       virginia     usa  22 hours left    21666.888259  \n",
      "...          ...     ...            ...             ...  \n",
      "2494     florida     usa  17 hours left      400.000000  \n",
      "2495     florida     usa  17 hours left      400.000000  \n",
      "2496     florida     usa  17 hours left      400.000000  \n",
      "2497     georgia     usa  17 hours left      400.000000  \n",
      "2498  new jersey     usa  17 hours left    11050.000000  \n",
      "\n",
      "[2499 rows x 11 columns]\n"
     ]
    }
   ],
   "source": [
    "#Add the Average price for each brand across rows\n",
    "\n",
    "mean_values=df.groupby(by=\"Brand\")[\"Price\"].mean()\n",
    "df = df.merge(mean_values, on='Brand', suffixes=('', '_by_Brand'))\n",
    "\n",
    "print(df)"
   ]
  },
  {
   "cell_type": "code",
   "execution_count": 38,
   "id": "30149d84",
   "metadata": {},
   "outputs": [
    {
     "name": "stdout",
     "output_type": "stream",
     "text": [
      "      Price  Brand  Model   Year  Title  Mileage  Color  State  Country  \\\n",
      "0     False  False  False  False  False    False  False  False    False   \n",
      "1     False  False  False  False  False    False  False  False    False   \n",
      "2     False  False  False  False  False    False  False  False    False   \n",
      "3     False  False  False  False  False    False  False  False    False   \n",
      "4     False  False  False  False  False    False  False  False    False   \n",
      "...     ...    ...    ...    ...    ...      ...    ...    ...      ...   \n",
      "2494  False  False  False  False  False    False  False  False    False   \n",
      "2495  False  False  False  False  False    False  False  False    False   \n",
      "2496  False  False  False  False  False    False  False  False    False   \n",
      "2497  False  False  False  False  False    False  False  False    False   \n",
      "2498  False  False  False  False  False    False  False  False    False   \n",
      "\n",
      "      Auction Window  Price_by_Brand  \n",
      "0              False           False  \n",
      "1              False           False  \n",
      "2              False           False  \n",
      "3              False           False  \n",
      "4              False           False  \n",
      "...              ...             ...  \n",
      "2494           False           False  \n",
      "2495           False           False  \n",
      "2496           False           False  \n",
      "2497           False           False  \n",
      "2498           False           False  \n",
      "\n",
      "[2499 rows x 11 columns]\n",
      "Price             0\n",
      "Brand             0\n",
      "Model             0\n",
      "Year              0\n",
      "Title             0\n",
      "Mileage           0\n",
      "Color             0\n",
      "State             0\n",
      "Country           0\n",
      "Auction Window    0\n",
      "Price_by_Brand    0\n",
      "dtype: int64\n"
     ]
    }
   ],
   "source": [
    "missing_values = df.isna() \n",
    "missing_count = df.isna().sum() \n",
    "\n",
    "print(missing_values)\n",
    "print(missing_count)"
   ]
  },
  {
   "cell_type": "markdown",
   "id": "c202e8ca",
   "metadata": {},
   "source": [
    "Visualiations "
   ]
  },
  {
   "cell_type": "code",
   "execution_count": 39,
   "id": "7e275aab",
   "metadata": {},
   "outputs": [
    {
     "data": {
      "text/plain": [
       "<Axes: xlabel='Price'>"
      ]
     },
     "execution_count": 39,
     "metadata": {},
     "output_type": "execute_result"
    },
    {
     "data": {
      "image/png": "[encoded data removed]",
      "text/plain": [
       "<Figure size 640x480 with 1 Axes>"
      ]
     },
     "metadata": {},
     "output_type": "display_data"
    }
   ],
   "source": [
    "sns.boxplot(x=df['Price'])"
   ]
  },
  {
   "cell_type": "code",
   "execution_count": 40,
   "id": "37bc8fc0",
   "metadata": {},
   "outputs": [
    {
     "data": {
      "text/plain": [
       "<Axes: xlabel='Mileage'>"
      ]
     },
     "execution_count": 40,
     "metadata": {},
     "output_type": "execute_result"
    },
    {
     "data": {
      "image/png": "[encoded data removed]",
      "text/plain": [
       "<Figure size 640x480 with 1 Axes>"
      ]
     },
     "metadata": {},
     "output_type": "display_data"
    }
   ],
   "source": [
    "sns.boxplot(x=df['Mileage'])"
   ]
  },
  {
   "cell_type": "code",
   "execution_count": 41,
   "id": "4badeecf",
   "metadata": {},
   "outputs": [
    {
     "data": {
      "text/plain": [
       "Text(0.5, 0, 'Brand')"
      ]
     },
     "execution_count": 41,
     "metadata": {},
     "output_type": "execute_result"
    },
    {
     "data": {
      "image/png": "[encoded data removed]",
      "text/plain": [
       "<Figure size 1000x500 with 1 Axes>"
      ]
     },
     "metadata": {},
     "output_type": "display_data"
    }
   ],
   "source": [
    "df.Brand.value_counts().nlargest(40).plot(kind='bar', figsize=(10,5))\n",
    "plt.title(\"Cars by Brand\")\n",
    "plt.ylabel('Number of Cars')\n",
    "plt.xlabel('Brand')"
   ]
  },
  {
   "cell_type": "markdown",
   "id": "ec69380d",
   "metadata": {},
   "source": [
    "Conclusion:\n",
    "Ford is far and away the car brand bought the most at auctions. "
   ]
  }
 ],
 "metadata": {
  "kernelspec": {
   "display_name": "Python 3 (ipykernel)",
   "language": "python",
   "name": "python3"
  },
  "language_info": {
   "codemirror_mode": {
    "name": "ipython",
    "version": 3
   },
   "file_extension": ".py",
   "mimetype": "text/x-python",
   "name": "python",
   "nbconvert_exporter": "python",
   "pygments_lexer": "ipython3",
   "version": "3.11.5"
  }
 },
 "nbformat": 4,
 "nbformat_minor": 5
}
